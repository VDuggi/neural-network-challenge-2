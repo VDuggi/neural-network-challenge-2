{
  "cells": [
    {
      "cell_type": "markdown",
      "metadata": {
        "id": "alIIEHibGc3M"
      },
      "source": [
        "## Part 1: Preprocessing"
      ]
    },
    {
      "cell_type": "code",
      "execution_count": 1,
      "metadata": {
        "colab": {
          "base_uri": "https://localhost:8080/",
          "height": 325
        },
        "id": "6eDUJ4NtGc3P",
        "outputId": "60c8bc08-9747-420b-f4b4-3993da5d22b4"
      },
      "outputs": [
        {
          "output_type": "execute_result",
          "data": {
            "text/plain": [
              "   Age Attrition     BusinessTravel              Department  DistanceFromHome  \\\n",
              "0   41       Yes      Travel_Rarely                   Sales                 1   \n",
              "1   49        No  Travel_Frequently  Research & Development                 8   \n",
              "2   37       Yes      Travel_Rarely  Research & Development                 2   \n",
              "3   33        No  Travel_Frequently  Research & Development                 3   \n",
              "4   27        No      Travel_Rarely  Research & Development                 2   \n",
              "\n",
              "   Education EducationField  EnvironmentSatisfaction  HourlyRate  \\\n",
              "0          2  Life Sciences                        2          94   \n",
              "1          1  Life Sciences                        3          61   \n",
              "2          2          Other                        4          92   \n",
              "3          4  Life Sciences                        4          56   \n",
              "4          1        Medical                        1          40   \n",
              "\n",
              "   JobInvolvement  ...  PerformanceRating RelationshipSatisfaction  \\\n",
              "0               3  ...                  3                        1   \n",
              "1               2  ...                  4                        4   \n",
              "2               2  ...                  3                        2   \n",
              "3               3  ...                  3                        3   \n",
              "4               3  ...                  3                        4   \n",
              "\n",
              "   StockOptionLevel TotalWorkingYears  TrainingTimesLastYear WorkLifeBalance  \\\n",
              "0                 0                 8                      0               1   \n",
              "1                 1                10                      3               3   \n",
              "2                 0                 7                      3               3   \n",
              "3                 0                 8                      3               3   \n",
              "4                 1                 6                      3               3   \n",
              "\n",
              "   YearsAtCompany  YearsInCurrentRole  YearsSinceLastPromotion  \\\n",
              "0               6                   4                        0   \n",
              "1              10                   7                        1   \n",
              "2               0                   0                        0   \n",
              "3               8                   7                        3   \n",
              "4               2                   2                        2   \n",
              "\n",
              "   YearsWithCurrManager  \n",
              "0                     5  \n",
              "1                     7  \n",
              "2                     0  \n",
              "3                     0  \n",
              "4                     2  \n",
              "\n",
              "[5 rows x 27 columns]"
            ],
            "text/html": [
              "\n",
              "  <div id=\"df-b93ed9b8-b360-447d-aa04-108430ec4ae5\" class=\"colab-df-container\">\n",
              "    <div>\n",
              "<style scoped>\n",
              "    .dataframe tbody tr th:only-of-type {\n",
              "        vertical-align: middle;\n",
              "    }\n",
              "\n",
              "    .dataframe tbody tr th {\n",
              "        vertical-align: top;\n",
              "    }\n",
              "\n",
              "    .dataframe thead th {\n",
              "        text-align: right;\n",
              "    }\n",
              "</style>\n",
              "<table border=\"1\" class=\"dataframe\">\n",
              "  <thead>\n",
              "    <tr style=\"text-align: right;\">\n",
              "      <th></th>\n",
              "      <th>Age</th>\n",
              "      <th>Attrition</th>\n",
              "      <th>BusinessTravel</th>\n",
              "      <th>Department</th>\n",
              "      <th>DistanceFromHome</th>\n",
              "      <th>Education</th>\n",
              "      <th>EducationField</th>\n",
              "      <th>EnvironmentSatisfaction</th>\n",
              "      <th>HourlyRate</th>\n",
              "      <th>JobInvolvement</th>\n",
              "      <th>...</th>\n",
              "      <th>PerformanceRating</th>\n",
              "      <th>RelationshipSatisfaction</th>\n",
              "      <th>StockOptionLevel</th>\n",
              "      <th>TotalWorkingYears</th>\n",
              "      <th>TrainingTimesLastYear</th>\n",
              "      <th>WorkLifeBalance</th>\n",
              "      <th>YearsAtCompany</th>\n",
              "      <th>YearsInCurrentRole</th>\n",
              "      <th>YearsSinceLastPromotion</th>\n",
              "      <th>YearsWithCurrManager</th>\n",
              "    </tr>\n",
              "  </thead>\n",
              "  <tbody>\n",
              "    <tr>\n",
              "      <th>0</th>\n",
              "      <td>41</td>\n",
              "      <td>Yes</td>\n",
              "      <td>Travel_Rarely</td>\n",
              "      <td>Sales</td>\n",
              "      <td>1</td>\n",
              "      <td>2</td>\n",
              "      <td>Life Sciences</td>\n",
              "      <td>2</td>\n",
              "      <td>94</td>\n",
              "      <td>3</td>\n",
              "      <td>...</td>\n",
              "      <td>3</td>\n",
              "      <td>1</td>\n",
              "      <td>0</td>\n",
              "      <td>8</td>\n",
              "      <td>0</td>\n",
              "      <td>1</td>\n",
              "      <td>6</td>\n",
              "      <td>4</td>\n",
              "      <td>0</td>\n",
              "      <td>5</td>\n",
              "    </tr>\n",
              "    <tr>\n",
              "      <th>1</th>\n",
              "      <td>49</td>\n",
              "      <td>No</td>\n",
              "      <td>Travel_Frequently</td>\n",
              "      <td>Research &amp; Development</td>\n",
              "      <td>8</td>\n",
              "      <td>1</td>\n",
              "      <td>Life Sciences</td>\n",
              "      <td>3</td>\n",
              "      <td>61</td>\n",
              "      <td>2</td>\n",
              "      <td>...</td>\n",
              "      <td>4</td>\n",
              "      <td>4</td>\n",
              "      <td>1</td>\n",
              "      <td>10</td>\n",
              "      <td>3</td>\n",
              "      <td>3</td>\n",
              "      <td>10</td>\n",
              "      <td>7</td>\n",
              "      <td>1</td>\n",
              "      <td>7</td>\n",
              "    </tr>\n",
              "    <tr>\n",
              "      <th>2</th>\n",
              "      <td>37</td>\n",
              "      <td>Yes</td>\n",
              "      <td>Travel_Rarely</td>\n",
              "      <td>Research &amp; Development</td>\n",
              "      <td>2</td>\n",
              "      <td>2</td>\n",
              "      <td>Other</td>\n",
              "      <td>4</td>\n",
              "      <td>92</td>\n",
              "      <td>2</td>\n",
              "      <td>...</td>\n",
              "      <td>3</td>\n",
              "      <td>2</td>\n",
              "      <td>0</td>\n",
              "      <td>7</td>\n",
              "      <td>3</td>\n",
              "      <td>3</td>\n",
              "      <td>0</td>\n",
              "      <td>0</td>\n",
              "      <td>0</td>\n",
              "      <td>0</td>\n",
              "    </tr>\n",
              "    <tr>\n",
              "      <th>3</th>\n",
              "      <td>33</td>\n",
              "      <td>No</td>\n",
              "      <td>Travel_Frequently</td>\n",
              "      <td>Research &amp; Development</td>\n",
              "      <td>3</td>\n",
              "      <td>4</td>\n",
              "      <td>Life Sciences</td>\n",
              "      <td>4</td>\n",
              "      <td>56</td>\n",
              "      <td>3</td>\n",
              "      <td>...</td>\n",
              "      <td>3</td>\n",
              "      <td>3</td>\n",
              "      <td>0</td>\n",
              "      <td>8</td>\n",
              "      <td>3</td>\n",
              "      <td>3</td>\n",
              "      <td>8</td>\n",
              "      <td>7</td>\n",
              "      <td>3</td>\n",
              "      <td>0</td>\n",
              "    </tr>\n",
              "    <tr>\n",
              "      <th>4</th>\n",
              "      <td>27</td>\n",
              "      <td>No</td>\n",
              "      <td>Travel_Rarely</td>\n",
              "      <td>Research &amp; Development</td>\n",
              "      <td>2</td>\n",
              "      <td>1</td>\n",
              "      <td>Medical</td>\n",
              "      <td>1</td>\n",
              "      <td>40</td>\n",
              "      <td>3</td>\n",
              "      <td>...</td>\n",
              "      <td>3</td>\n",
              "      <td>4</td>\n",
              "      <td>1</td>\n",
              "      <td>6</td>\n",
              "      <td>3</td>\n",
              "      <td>3</td>\n",
              "      <td>2</td>\n",
              "      <td>2</td>\n",
              "      <td>2</td>\n",
              "      <td>2</td>\n",
              "    </tr>\n",
              "  </tbody>\n",
              "</table>\n",
              "<p>5 rows × 27 columns</p>\n",
              "</div>\n",
              "    <div class=\"colab-df-buttons\">\n",
              "\n",
              "  <div class=\"colab-df-container\">\n",
              "    <button class=\"colab-df-convert\" onclick=\"convertToInteractive('df-b93ed9b8-b360-447d-aa04-108430ec4ae5')\"\n",
              "            title=\"Convert this dataframe to an interactive table.\"\n",
              "            style=\"display:none;\">\n",
              "\n",
              "  <svg xmlns=\"http://www.w3.org/2000/svg\" height=\"24px\" viewBox=\"0 -960 960 960\">\n",
              "    <path d=\"M120-120v-720h720v720H120Zm60-500h600v-160H180v160Zm220 220h160v-160H400v160Zm0 220h160v-160H400v160ZM180-400h160v-160H180v160Zm440 0h160v-160H620v160ZM180-180h160v-160H180v160Zm440 0h160v-160H620v160Z\"/>\n",
              "  </svg>\n",
              "    </button>\n",
              "\n",
              "  <style>\n",
              "    .colab-df-container {\n",
              "      display:flex;\n",
              "      gap: 12px;\n",
              "    }\n",
              "\n",
              "    .colab-df-convert {\n",
              "      background-color: #E8F0FE;\n",
              "      border: none;\n",
              "      border-radius: 50%;\n",
              "      cursor: pointer;\n",
              "      display: none;\n",
              "      fill: #1967D2;\n",
              "      height: 32px;\n",
              "      padding: 0 0 0 0;\n",
              "      width: 32px;\n",
              "    }\n",
              "\n",
              "    .colab-df-convert:hover {\n",
              "      background-color: #E2EBFA;\n",
              "      box-shadow: 0px 1px 2px rgba(60, 64, 67, 0.3), 0px 1px 3px 1px rgba(60, 64, 67, 0.15);\n",
              "      fill: #174EA6;\n",
              "    }\n",
              "\n",
              "    .colab-df-buttons div {\n",
              "      margin-bottom: 4px;\n",
              "    }\n",
              "\n",
              "    [theme=dark] .colab-df-convert {\n",
              "      background-color: #3B4455;\n",
              "      fill: #D2E3FC;\n",
              "    }\n",
              "\n",
              "    [theme=dark] .colab-df-convert:hover {\n",
              "      background-color: #434B5C;\n",
              "      box-shadow: 0px 1px 3px 1px rgba(0, 0, 0, 0.15);\n",
              "      filter: drop-shadow(0px 1px 2px rgba(0, 0, 0, 0.3));\n",
              "      fill: #FFFFFF;\n",
              "    }\n",
              "  </style>\n",
              "\n",
              "    <script>\n",
              "      const buttonEl =\n",
              "        document.querySelector('#df-b93ed9b8-b360-447d-aa04-108430ec4ae5 button.colab-df-convert');\n",
              "      buttonEl.style.display =\n",
              "        google.colab.kernel.accessAllowed ? 'block' : 'none';\n",
              "\n",
              "      async function convertToInteractive(key) {\n",
              "        const element = document.querySelector('#df-b93ed9b8-b360-447d-aa04-108430ec4ae5');\n",
              "        const dataTable =\n",
              "          await google.colab.kernel.invokeFunction('convertToInteractive',\n",
              "                                                    [key], {});\n",
              "        if (!dataTable) return;\n",
              "\n",
              "        const docLinkHtml = 'Like what you see? Visit the ' +\n",
              "          '<a target=\"_blank\" href=https://colab.research.google.com/notebooks/data_table.ipynb>data table notebook</a>'\n",
              "          + ' to learn more about interactive tables.';\n",
              "        element.innerHTML = '';\n",
              "        dataTable['output_type'] = 'display_data';\n",
              "        await google.colab.output.renderOutput(dataTable, element);\n",
              "        const docLink = document.createElement('div');\n",
              "        docLink.innerHTML = docLinkHtml;\n",
              "        element.appendChild(docLink);\n",
              "      }\n",
              "    </script>\n",
              "  </div>\n",
              "\n",
              "\n",
              "<div id=\"df-73ed3115-7c21-4f16-a7ea-94c532f0d09c\">\n",
              "  <button class=\"colab-df-quickchart\" onclick=\"quickchart('df-73ed3115-7c21-4f16-a7ea-94c532f0d09c')\"\n",
              "            title=\"Suggest charts\"\n",
              "            style=\"display:none;\">\n",
              "\n",
              "<svg xmlns=\"http://www.w3.org/2000/svg\" height=\"24px\"viewBox=\"0 0 24 24\"\n",
              "     width=\"24px\">\n",
              "    <g>\n",
              "        <path d=\"M19 3H5c-1.1 0-2 .9-2 2v14c0 1.1.9 2 2 2h14c1.1 0 2-.9 2-2V5c0-1.1-.9-2-2-2zM9 17H7v-7h2v7zm4 0h-2V7h2v10zm4 0h-2v-4h2v4z\"/>\n",
              "    </g>\n",
              "</svg>\n",
              "  </button>\n",
              "\n",
              "<style>\n",
              "  .colab-df-quickchart {\n",
              "      --bg-color: #E8F0FE;\n",
              "      --fill-color: #1967D2;\n",
              "      --hover-bg-color: #E2EBFA;\n",
              "      --hover-fill-color: #174EA6;\n",
              "      --disabled-fill-color: #AAA;\n",
              "      --disabled-bg-color: #DDD;\n",
              "  }\n",
              "\n",
              "  [theme=dark] .colab-df-quickchart {\n",
              "      --bg-color: #3B4455;\n",
              "      --fill-color: #D2E3FC;\n",
              "      --hover-bg-color: #434B5C;\n",
              "      --hover-fill-color: #FFFFFF;\n",
              "      --disabled-bg-color: #3B4455;\n",
              "      --disabled-fill-color: #666;\n",
              "  }\n",
              "\n",
              "  .colab-df-quickchart {\n",
              "    background-color: var(--bg-color);\n",
              "    border: none;\n",
              "    border-radius: 50%;\n",
              "    cursor: pointer;\n",
              "    display: none;\n",
              "    fill: var(--fill-color);\n",
              "    height: 32px;\n",
              "    padding: 0;\n",
              "    width: 32px;\n",
              "  }\n",
              "\n",
              "  .colab-df-quickchart:hover {\n",
              "    background-color: var(--hover-bg-color);\n",
              "    box-shadow: 0 1px 2px rgba(60, 64, 67, 0.3), 0 1px 3px 1px rgba(60, 64, 67, 0.15);\n",
              "    fill: var(--button-hover-fill-color);\n",
              "  }\n",
              "\n",
              "  .colab-df-quickchart-complete:disabled,\n",
              "  .colab-df-quickchart-complete:disabled:hover {\n",
              "    background-color: var(--disabled-bg-color);\n",
              "    fill: var(--disabled-fill-color);\n",
              "    box-shadow: none;\n",
              "  }\n",
              "\n",
              "  .colab-df-spinner {\n",
              "    border: 2px solid var(--fill-color);\n",
              "    border-color: transparent;\n",
              "    border-bottom-color: var(--fill-color);\n",
              "    animation:\n",
              "      spin 1s steps(1) infinite;\n",
              "  }\n",
              "\n",
              "  @keyframes spin {\n",
              "    0% {\n",
              "      border-color: transparent;\n",
              "      border-bottom-color: var(--fill-color);\n",
              "      border-left-color: var(--fill-color);\n",
              "    }\n",
              "    20% {\n",
              "      border-color: transparent;\n",
              "      border-left-color: var(--fill-color);\n",
              "      border-top-color: var(--fill-color);\n",
              "    }\n",
              "    30% {\n",
              "      border-color: transparent;\n",
              "      border-left-color: var(--fill-color);\n",
              "      border-top-color: var(--fill-color);\n",
              "      border-right-color: var(--fill-color);\n",
              "    }\n",
              "    40% {\n",
              "      border-color: transparent;\n",
              "      border-right-color: var(--fill-color);\n",
              "      border-top-color: var(--fill-color);\n",
              "    }\n",
              "    60% {\n",
              "      border-color: transparent;\n",
              "      border-right-color: var(--fill-color);\n",
              "    }\n",
              "    80% {\n",
              "      border-color: transparent;\n",
              "      border-right-color: var(--fill-color);\n",
              "      border-bottom-color: var(--fill-color);\n",
              "    }\n",
              "    90% {\n",
              "      border-color: transparent;\n",
              "      border-bottom-color: var(--fill-color);\n",
              "    }\n",
              "  }\n",
              "</style>\n",
              "\n",
              "  <script>\n",
              "    async function quickchart(key) {\n",
              "      const quickchartButtonEl =\n",
              "        document.querySelector('#' + key + ' button');\n",
              "      quickchartButtonEl.disabled = true;  // To prevent multiple clicks.\n",
              "      quickchartButtonEl.classList.add('colab-df-spinner');\n",
              "      try {\n",
              "        const charts = await google.colab.kernel.invokeFunction(\n",
              "            'suggestCharts', [key], {});\n",
              "      } catch (error) {\n",
              "        console.error('Error during call to suggestCharts:', error);\n",
              "      }\n",
              "      quickchartButtonEl.classList.remove('colab-df-spinner');\n",
              "      quickchartButtonEl.classList.add('colab-df-quickchart-complete');\n",
              "    }\n",
              "    (() => {\n",
              "      let quickchartButtonEl =\n",
              "        document.querySelector('#df-73ed3115-7c21-4f16-a7ea-94c532f0d09c button');\n",
              "      quickchartButtonEl.style.display =\n",
              "        google.colab.kernel.accessAllowed ? 'block' : 'none';\n",
              "    })();\n",
              "  </script>\n",
              "</div>\n",
              "\n",
              "    </div>\n",
              "  </div>\n"
            ],
            "application/vnd.google.colaboratory.intrinsic+json": {
              "type": "dataframe",
              "variable_name": "attrition_df"
            }
          },
          "metadata": {},
          "execution_count": 1
        }
      ],
      "source": [
        "# Import our dependencies\n",
        "from sklearn.model_selection import train_test_split\n",
        "from sklearn.preprocessing import StandardScaler\n",
        "import pandas as pd\n",
        "import numpy as np\n",
        "from tensorflow.keras.models import Model\n",
        "from tensorflow.keras import layers\n",
        "\n",
        "#  Import and read the attrition data\n",
        "attrition_df = pd.read_csv('https://static.bc-edx.com/ai/ail-v-1-0/m19/lms/datasets/attrition.csv')\n",
        "attrition_df.head()"
      ]
    },
    {
      "cell_type": "code",
      "execution_count": 2,
      "metadata": {
        "colab": {
          "base_uri": "https://localhost:8080/"
        },
        "id": "g22aQSY4Gc3Q",
        "outputId": "0100a947-f9e2-42d8-9993-79b9e8d23ff2"
      },
      "outputs": [
        {
          "output_type": "execute_result",
          "data": {
            "text/plain": [
              "Age                         43\n",
              "Attrition                    2\n",
              "BusinessTravel               3\n",
              "Department                   3\n",
              "DistanceFromHome            29\n",
              "Education                    5\n",
              "EducationField               6\n",
              "EnvironmentSatisfaction      4\n",
              "HourlyRate                  71\n",
              "JobInvolvement               4\n",
              "JobLevel                     5\n",
              "JobRole                      9\n",
              "JobSatisfaction              4\n",
              "MaritalStatus                3\n",
              "NumCompaniesWorked          10\n",
              "OverTime                     2\n",
              "PercentSalaryHike           15\n",
              "PerformanceRating            2\n",
              "RelationshipSatisfaction     4\n",
              "StockOptionLevel             4\n",
              "TotalWorkingYears           40\n",
              "TrainingTimesLastYear        7\n",
              "WorkLifeBalance              4\n",
              "YearsAtCompany              37\n",
              "YearsInCurrentRole          19\n",
              "YearsSinceLastPromotion     16\n",
              "YearsWithCurrManager        18\n",
              "dtype: int64"
            ]
          },
          "metadata": {},
          "execution_count": 2
        }
      ],
      "source": [
        "# Determine the number of unique values in each column.\n",
        "attrition_df.nunique()"
      ]
    },
    {
      "cell_type": "code",
      "source": [
        "#attrition_df.dtypes"
      ],
      "metadata": {
        "id": "s7zVkkMymDXo"
      },
      "execution_count": 3,
      "outputs": []
    },
    {
      "cell_type": "code",
      "source": [],
      "metadata": {
        "id": "_MJxUCGBmDhX"
      },
      "execution_count": 3,
      "outputs": []
    },
    {
      "cell_type": "code",
      "execution_count": 4,
      "metadata": {
        "id": "50vMgBEnJbfM",
        "colab": {
          "base_uri": "https://localhost:8080/",
          "height": 206
        },
        "outputId": "29017df3-e7c2-477a-da84-530fd532dfa8"
      },
      "outputs": [
        {
          "output_type": "execute_result",
          "data": {
            "text/plain": [
              "  Attrition              Department\n",
              "0       Yes                   Sales\n",
              "1        No  Research & Development\n",
              "2       Yes  Research & Development\n",
              "3        No  Research & Development\n",
              "4        No  Research & Development"
            ],
            "text/html": [
              "\n",
              "  <div id=\"df-5dbfb903-dee2-4d78-8d67-864d0b82cff0\" class=\"colab-df-container\">\n",
              "    <div>\n",
              "<style scoped>\n",
              "    .dataframe tbody tr th:only-of-type {\n",
              "        vertical-align: middle;\n",
              "    }\n",
              "\n",
              "    .dataframe tbody tr th {\n",
              "        vertical-align: top;\n",
              "    }\n",
              "\n",
              "    .dataframe thead th {\n",
              "        text-align: right;\n",
              "    }\n",
              "</style>\n",
              "<table border=\"1\" class=\"dataframe\">\n",
              "  <thead>\n",
              "    <tr style=\"text-align: right;\">\n",
              "      <th></th>\n",
              "      <th>Attrition</th>\n",
              "      <th>Department</th>\n",
              "    </tr>\n",
              "  </thead>\n",
              "  <tbody>\n",
              "    <tr>\n",
              "      <th>0</th>\n",
              "      <td>Yes</td>\n",
              "      <td>Sales</td>\n",
              "    </tr>\n",
              "    <tr>\n",
              "      <th>1</th>\n",
              "      <td>No</td>\n",
              "      <td>Research &amp; Development</td>\n",
              "    </tr>\n",
              "    <tr>\n",
              "      <th>2</th>\n",
              "      <td>Yes</td>\n",
              "      <td>Research &amp; Development</td>\n",
              "    </tr>\n",
              "    <tr>\n",
              "      <th>3</th>\n",
              "      <td>No</td>\n",
              "      <td>Research &amp; Development</td>\n",
              "    </tr>\n",
              "    <tr>\n",
              "      <th>4</th>\n",
              "      <td>No</td>\n",
              "      <td>Research &amp; Development</td>\n",
              "    </tr>\n",
              "  </tbody>\n",
              "</table>\n",
              "</div>\n",
              "    <div class=\"colab-df-buttons\">\n",
              "\n",
              "  <div class=\"colab-df-container\">\n",
              "    <button class=\"colab-df-convert\" onclick=\"convertToInteractive('df-5dbfb903-dee2-4d78-8d67-864d0b82cff0')\"\n",
              "            title=\"Convert this dataframe to an interactive table.\"\n",
              "            style=\"display:none;\">\n",
              "\n",
              "  <svg xmlns=\"http://www.w3.org/2000/svg\" height=\"24px\" viewBox=\"0 -960 960 960\">\n",
              "    <path d=\"M120-120v-720h720v720H120Zm60-500h600v-160H180v160Zm220 220h160v-160H400v160Zm0 220h160v-160H400v160ZM180-400h160v-160H180v160Zm440 0h160v-160H620v160ZM180-180h160v-160H180v160Zm440 0h160v-160H620v160Z\"/>\n",
              "  </svg>\n",
              "    </button>\n",
              "\n",
              "  <style>\n",
              "    .colab-df-container {\n",
              "      display:flex;\n",
              "      gap: 12px;\n",
              "    }\n",
              "\n",
              "    .colab-df-convert {\n",
              "      background-color: #E8F0FE;\n",
              "      border: none;\n",
              "      border-radius: 50%;\n",
              "      cursor: pointer;\n",
              "      display: none;\n",
              "      fill: #1967D2;\n",
              "      height: 32px;\n",
              "      padding: 0 0 0 0;\n",
              "      width: 32px;\n",
              "    }\n",
              "\n",
              "    .colab-df-convert:hover {\n",
              "      background-color: #E2EBFA;\n",
              "      box-shadow: 0px 1px 2px rgba(60, 64, 67, 0.3), 0px 1px 3px 1px rgba(60, 64, 67, 0.15);\n",
              "      fill: #174EA6;\n",
              "    }\n",
              "\n",
              "    .colab-df-buttons div {\n",
              "      margin-bottom: 4px;\n",
              "    }\n",
              "\n",
              "    [theme=dark] .colab-df-convert {\n",
              "      background-color: #3B4455;\n",
              "      fill: #D2E3FC;\n",
              "    }\n",
              "\n",
              "    [theme=dark] .colab-df-convert:hover {\n",
              "      background-color: #434B5C;\n",
              "      box-shadow: 0px 1px 3px 1px rgba(0, 0, 0, 0.15);\n",
              "      filter: drop-shadow(0px 1px 2px rgba(0, 0, 0, 0.3));\n",
              "      fill: #FFFFFF;\n",
              "    }\n",
              "  </style>\n",
              "\n",
              "    <script>\n",
              "      const buttonEl =\n",
              "        document.querySelector('#df-5dbfb903-dee2-4d78-8d67-864d0b82cff0 button.colab-df-convert');\n",
              "      buttonEl.style.display =\n",
              "        google.colab.kernel.accessAllowed ? 'block' : 'none';\n",
              "\n",
              "      async function convertToInteractive(key) {\n",
              "        const element = document.querySelector('#df-5dbfb903-dee2-4d78-8d67-864d0b82cff0');\n",
              "        const dataTable =\n",
              "          await google.colab.kernel.invokeFunction('convertToInteractive',\n",
              "                                                    [key], {});\n",
              "        if (!dataTable) return;\n",
              "\n",
              "        const docLinkHtml = 'Like what you see? Visit the ' +\n",
              "          '<a target=\"_blank\" href=https://colab.research.google.com/notebooks/data_table.ipynb>data table notebook</a>'\n",
              "          + ' to learn more about interactive tables.';\n",
              "        element.innerHTML = '';\n",
              "        dataTable['output_type'] = 'display_data';\n",
              "        await google.colab.output.renderOutput(dataTable, element);\n",
              "        const docLink = document.createElement('div');\n",
              "        docLink.innerHTML = docLinkHtml;\n",
              "        element.appendChild(docLink);\n",
              "      }\n",
              "    </script>\n",
              "  </div>\n",
              "\n",
              "\n",
              "<div id=\"df-dbbc9559-6318-412f-b839-b23cd31b57fe\">\n",
              "  <button class=\"colab-df-quickchart\" onclick=\"quickchart('df-dbbc9559-6318-412f-b839-b23cd31b57fe')\"\n",
              "            title=\"Suggest charts\"\n",
              "            style=\"display:none;\">\n",
              "\n",
              "<svg xmlns=\"http://www.w3.org/2000/svg\" height=\"24px\"viewBox=\"0 0 24 24\"\n",
              "     width=\"24px\">\n",
              "    <g>\n",
              "        <path d=\"M19 3H5c-1.1 0-2 .9-2 2v14c0 1.1.9 2 2 2h14c1.1 0 2-.9 2-2V5c0-1.1-.9-2-2-2zM9 17H7v-7h2v7zm4 0h-2V7h2v10zm4 0h-2v-4h2v4z\"/>\n",
              "    </g>\n",
              "</svg>\n",
              "  </button>\n",
              "\n",
              "<style>\n",
              "  .colab-df-quickchart {\n",
              "      --bg-color: #E8F0FE;\n",
              "      --fill-color: #1967D2;\n",
              "      --hover-bg-color: #E2EBFA;\n",
              "      --hover-fill-color: #174EA6;\n",
              "      --disabled-fill-color: #AAA;\n",
              "      --disabled-bg-color: #DDD;\n",
              "  }\n",
              "\n",
              "  [theme=dark] .colab-df-quickchart {\n",
              "      --bg-color: #3B4455;\n",
              "      --fill-color: #D2E3FC;\n",
              "      --hover-bg-color: #434B5C;\n",
              "      --hover-fill-color: #FFFFFF;\n",
              "      --disabled-bg-color: #3B4455;\n",
              "      --disabled-fill-color: #666;\n",
              "  }\n",
              "\n",
              "  .colab-df-quickchart {\n",
              "    background-color: var(--bg-color);\n",
              "    border: none;\n",
              "    border-radius: 50%;\n",
              "    cursor: pointer;\n",
              "    display: none;\n",
              "    fill: var(--fill-color);\n",
              "    height: 32px;\n",
              "    padding: 0;\n",
              "    width: 32px;\n",
              "  }\n",
              "\n",
              "  .colab-df-quickchart:hover {\n",
              "    background-color: var(--hover-bg-color);\n",
              "    box-shadow: 0 1px 2px rgba(60, 64, 67, 0.3), 0 1px 3px 1px rgba(60, 64, 67, 0.15);\n",
              "    fill: var(--button-hover-fill-color);\n",
              "  }\n",
              "\n",
              "  .colab-df-quickchart-complete:disabled,\n",
              "  .colab-df-quickchart-complete:disabled:hover {\n",
              "    background-color: var(--disabled-bg-color);\n",
              "    fill: var(--disabled-fill-color);\n",
              "    box-shadow: none;\n",
              "  }\n",
              "\n",
              "  .colab-df-spinner {\n",
              "    border: 2px solid var(--fill-color);\n",
              "    border-color: transparent;\n",
              "    border-bottom-color: var(--fill-color);\n",
              "    animation:\n",
              "      spin 1s steps(1) infinite;\n",
              "  }\n",
              "\n",
              "  @keyframes spin {\n",
              "    0% {\n",
              "      border-color: transparent;\n",
              "      border-bottom-color: var(--fill-color);\n",
              "      border-left-color: var(--fill-color);\n",
              "    }\n",
              "    20% {\n",
              "      border-color: transparent;\n",
              "      border-left-color: var(--fill-color);\n",
              "      border-top-color: var(--fill-color);\n",
              "    }\n",
              "    30% {\n",
              "      border-color: transparent;\n",
              "      border-left-color: var(--fill-color);\n",
              "      border-top-color: var(--fill-color);\n",
              "      border-right-color: var(--fill-color);\n",
              "    }\n",
              "    40% {\n",
              "      border-color: transparent;\n",
              "      border-right-color: var(--fill-color);\n",
              "      border-top-color: var(--fill-color);\n",
              "    }\n",
              "    60% {\n",
              "      border-color: transparent;\n",
              "      border-right-color: var(--fill-color);\n",
              "    }\n",
              "    80% {\n",
              "      border-color: transparent;\n",
              "      border-right-color: var(--fill-color);\n",
              "      border-bottom-color: var(--fill-color);\n",
              "    }\n",
              "    90% {\n",
              "      border-color: transparent;\n",
              "      border-bottom-color: var(--fill-color);\n",
              "    }\n",
              "  }\n",
              "</style>\n",
              "\n",
              "  <script>\n",
              "    async function quickchart(key) {\n",
              "      const quickchartButtonEl =\n",
              "        document.querySelector('#' + key + ' button');\n",
              "      quickchartButtonEl.disabled = true;  // To prevent multiple clicks.\n",
              "      quickchartButtonEl.classList.add('colab-df-spinner');\n",
              "      try {\n",
              "        const charts = await google.colab.kernel.invokeFunction(\n",
              "            'suggestCharts', [key], {});\n",
              "      } catch (error) {\n",
              "        console.error('Error during call to suggestCharts:', error);\n",
              "      }\n",
              "      quickchartButtonEl.classList.remove('colab-df-spinner');\n",
              "      quickchartButtonEl.classList.add('colab-df-quickchart-complete');\n",
              "    }\n",
              "    (() => {\n",
              "      let quickchartButtonEl =\n",
              "        document.querySelector('#df-dbbc9559-6318-412f-b839-b23cd31b57fe button');\n",
              "      quickchartButtonEl.style.display =\n",
              "        google.colab.kernel.accessAllowed ? 'block' : 'none';\n",
              "    })();\n",
              "  </script>\n",
              "</div>\n",
              "\n",
              "    </div>\n",
              "  </div>\n"
            ],
            "application/vnd.google.colaboratory.intrinsic+json": {
              "type": "dataframe",
              "variable_name": "y_df",
              "summary": "{\n  \"name\": \"y_df\",\n  \"rows\": 1470,\n  \"fields\": [\n    {\n      \"column\": \"Attrition\",\n      \"properties\": {\n        \"dtype\": \"category\",\n        \"num_unique_values\": 2,\n        \"samples\": [\n          \"No\",\n          \"Yes\"\n        ],\n        \"semantic_type\": \"\",\n        \"description\": \"\"\n      }\n    },\n    {\n      \"column\": \"Department\",\n      \"properties\": {\n        \"dtype\": \"category\",\n        \"num_unique_values\": 3,\n        \"samples\": [\n          \"Sales\",\n          \"Research & Development\"\n        ],\n        \"semantic_type\": \"\",\n        \"description\": \"\"\n      }\n    }\n  ]\n}"
            }
          },
          "metadata": {},
          "execution_count": 4
        }
      ],
      "source": [
        "\n",
        "# Create y_df with the Attrition and Department columns\n",
        "y_df = attrition_df[['Attrition', 'Department']]\n",
        "y_df.head()\n"
      ]
    },
    {
      "cell_type": "code",
      "execution_count": 5,
      "metadata": {
        "colab": {
          "base_uri": "https://localhost:8080/"
        },
        "id": "Virka0zLGc3R",
        "outputId": "524a785b-6212-42da-b94d-8d1199bda7a7"
      },
      "outputs": [
        {
          "output_type": "execute_result",
          "data": {
            "text/plain": [
              "Education                   int64\n",
              "Age                         int64\n",
              "DistanceFromHome            int64\n",
              "JobSatisfaction             int64\n",
              "OverTime                   object\n",
              "StockOptionLevel            int64\n",
              "WorkLifeBalance             int64\n",
              "YearsAtCompany              int64\n",
              "YearsSinceLastPromotion     int64\n",
              "NumCompaniesWorked          int64\n",
              "dtype: object"
            ]
          },
          "metadata": {},
          "execution_count": 5
        }
      ],
      "source": [
        "# Create a list of at least 10 column names to use as X data\n",
        "X = attrition_df[['Education', 'Age', 'DistanceFromHome', 'JobSatisfaction', 'OverTime', 'StockOptionLevel', 'WorkLifeBalance', 'YearsAtCompany', 'YearsSinceLastPromotion', 'NumCompaniesWorked']]\n",
        "\n",
        "\n",
        "# Create X_df using your selected columns\n",
        "X_df = pd.DataFrame(X)\n",
        "\n",
        "# Show the data types for X_df\n",
        "\n",
        "X_df.dtypes"
      ]
    },
    {
      "cell_type": "code",
      "source": [],
      "metadata": {
        "id": "UXJcXX7m5UyU"
      },
      "execution_count": 5,
      "outputs": []
    },
    {
      "cell_type": "code",
      "execution_count": 6,
      "metadata": {
        "colab": {
          "base_uri": "https://localhost:8080/"
        },
        "id": "NYubUJqiLCSp",
        "outputId": "55698e92-65f8-4694-c103-609de0db27f8"
      },
      "outputs": [
        {
          "output_type": "execute_result",
          "data": {
            "text/plain": [
              "Education                  int64\n",
              "Age                        int64\n",
              "DistanceFromHome           int64\n",
              "JobSatisfaction            int64\n",
              "OverTime                   int64\n",
              "StockOptionLevel           int64\n",
              "WorkLifeBalance            int64\n",
              "YearsAtCompany             int64\n",
              "YearsSinceLastPromotion    int64\n",
              "NumCompaniesWorked         int64\n",
              "dtype: object"
            ]
          },
          "metadata": {},
          "execution_count": 6
        }
      ],
      "source": [
        "# Convert your X data to numeric data types however you see fit\n",
        "# Add new code cells as necessary\n",
        "X_df['OverTime'] = pd.to_numeric(X_df['OverTime'], errors='coerce')\n",
        "X_df['OverTime'].fillna(0, inplace=True)\n",
        "X_df['OverTime'] = X_df['OverTime'].astype('int64')\n",
        "X_df.dtypes"
      ]
    },
    {
      "cell_type": "code",
      "execution_count": 7,
      "metadata": {
        "id": "KaJfdOGUMHMR"
      },
      "outputs": [],
      "source": [
        "# Split the data into training and testing sets\n",
        "from sklearn.model_selection import train_test_split\n",
        "\n"
      ]
    },
    {
      "cell_type": "code",
      "source": [
        "\n",
        "X_train, X_test, y_train, y_test = train_test_split(X_df, y_df, random_state=78)"
      ],
      "metadata": {
        "id": "nXhmWeXDANUC"
      },
      "execution_count": 8,
      "outputs": []
    },
    {
      "cell_type": "code",
      "source": [
        "print(X_df['OverTime'])"
      ],
      "metadata": {
        "colab": {
          "base_uri": "https://localhost:8080/"
        },
        "id": "vCLbKtge_JlH",
        "outputId": "6a2246f1-d8fb-4d6e-e82f-2ddd8f7d12c8"
      },
      "execution_count": 9,
      "outputs": [
        {
          "output_type": "stream",
          "name": "stdout",
          "text": [
            "0       0\n",
            "1       0\n",
            "2       0\n",
            "3       0\n",
            "4       0\n",
            "       ..\n",
            "1465    0\n",
            "1466    0\n",
            "1467    0\n",
            "1468    0\n",
            "1469    0\n",
            "Name: OverTime, Length: 1470, dtype: int64\n"
          ]
        }
      ]
    },
    {
      "cell_type": "code",
      "source": [],
      "metadata": {
        "id": "a0cm8gfADq8l"
      },
      "execution_count": 9,
      "outputs": []
    },
    {
      "cell_type": "code",
      "source": [
        "from sklearn.preprocessing import OneHotEncoder\n"
      ],
      "metadata": {
        "id": "rNfAVqg-My_J"
      },
      "execution_count": 10,
      "outputs": []
    },
    {
      "cell_type": "code",
      "execution_count": 11,
      "metadata": {
        "id": "-z0Mky8vQSz4"
      },
      "outputs": [],
      "source": [
        "# Create a OneHotEncoder for the Department column\n",
        "onehot_encoder = OneHotEncoder(sparse_output=False, handle_unknown='ignore', drop = None)\n",
        "\n",
        "\n",
        "# Fit the encoder to the training data\n",
        "\n",
        "onehot_encoder.fit(np.array(y_train['Department']).reshape(-1,1))\n",
        "\n",
        "# Create two new variables by applying the encoder\n",
        "# to the training and testing data\n",
        "y_train_department = onehot_encoder.transform(np.array(y_train['Department']).reshape(-1,1))\n",
        "y_test_department = onehot_encoder.transform(np.array(y_test['Department']).reshape(-1,1))\n",
        "\n",
        "\n"
      ]
    },
    {
      "cell_type": "code",
      "execution_count": 12,
      "metadata": {
        "id": "EWA-aIA5Gc3T"
      },
      "outputs": [],
      "source": [
        "# Create a StandardScaler\n",
        "X_scaler = StandardScaler()\n",
        "\n",
        "# Fit the StandardScaler to the training data\n",
        "X_scaler.fit(X_train)\n",
        "\n",
        "# Scale the training and testing data\n",
        "X_train_scaled = X_scaler.transform(X_train)\n",
        "X_test_scaled = X_scaler.transform(X_test)\n"
      ]
    },
    {
      "cell_type": "code",
      "execution_count": 13,
      "metadata": {
        "id": "-G4DSpvFRrk4"
      },
      "outputs": [],
      "source": [
        "# Create a OneHotEncoder for the Attrition column\n",
        "onehot_encoder = OneHotEncoder(sparse_output=False, handle_unknown='ignore', drop = None)\n",
        "\n",
        "# Fit the encoder to the training data\n",
        "onehot_encoder.fit(np.array(y_train['Attrition']).reshape(-1,1))\n",
        "\n",
        "# Create two new variables by applying the encoder\n",
        "# to the training and testing data\n",
        "y_train_attrition = onehot_encoder.transform(np.array(y_train['Attrition']).reshape(-1,1))\n",
        "y_test_attrition = onehot_encoder.transform(np.array(y_test['Attrition']).reshape(-1,1))\n"
      ]
    },
    {
      "cell_type": "markdown",
      "metadata": {
        "id": "ykNmu_WWGc3T"
      },
      "source": [
        "## Create, Compile, and Train the Model"
      ]
    },
    {
      "cell_type": "code",
      "execution_count": 14,
      "metadata": {
        "id": "WUptZqmSGc3T"
      },
      "outputs": [],
      "source": [
        "# Find the number of columns in the X training data\n",
        "input_nodes = len(X.columns)\n",
        "\n",
        "\n",
        "# Create the input layer\n",
        "input = layers.Input(input_nodes, name='input')\n",
        "\n",
        "# Create at least two shared layers\n",
        "shape1 = layers.Dense(64, activation = 'relu', name = 'shape1')(input)\n",
        "shape2 = layers.Dense(120, activation = 'relu', name = 'shape2')(shape1)\n"
      ]
    },
    {
      "cell_type": "code",
      "execution_count": 15,
      "metadata": {
        "id": "JukjTm2yTEqd"
      },
      "outputs": [],
      "source": [
        "# Create a branch for Department\n",
        "# with a hidden layer and an output layer\n",
        "\n",
        "# Create the hidden layer\n",
        "department_hidden = layers.Dense(30, activation = 'relu', name = 'department_hidden')(shape1)\n",
        "\n",
        "# Create the output layer\n",
        "department_output = layers.Dense(y_train_department.shape[1], activation = 'sigmoid', name= 'department_output')(department_hidden)\n"
      ]
    },
    {
      "cell_type": "code",
      "execution_count": 16,
      "metadata": {
        "id": "9OqhUiOJUBkR"
      },
      "outputs": [],
      "source": [
        "# Create a branch for Attrition\n",
        "# with a hidden layer and an output layer\n",
        "\n",
        "# Create the hidden layer\n",
        "attrition_hidden = layers.Dense(30, activation='relu', name = 'attrition_hidden')(shape2)\n",
        "\n",
        "# Create the output layer\n",
        "attrition_output = layers.Dense(y_train_attrition.shape[1], activation='sigmoid', name='attrition_output')(attrition_hidden)\n"
      ]
    },
    {
      "cell_type": "code",
      "execution_count": 17,
      "metadata": {
        "colab": {
          "base_uri": "https://localhost:8080/"
        },
        "id": "twmuejdxGc3T",
        "outputId": "02dde374-a23c-4362-d5b1-ddde37c1f3b1"
      },
      "outputs": [
        {
          "output_type": "stream",
          "name": "stdout",
          "text": [
            "Model: \"model\"\n",
            "__________________________________________________________________________________________________\n",
            " Layer (type)                Output Shape                 Param #   Connected to                  \n",
            "==================================================================================================\n",
            " input (InputLayer)          [(None, 10)]                 0         []                            \n",
            "                                                                                                  \n",
            " shape1 (Dense)              (None, 64)                   704       ['input[0][0]']               \n",
            "                                                                                                  \n",
            " shape2 (Dense)              (None, 120)                  7800      ['shape1[0][0]']              \n",
            "                                                                                                  \n",
            " department_hidden (Dense)   (None, 30)                   1950      ['shape1[0][0]']              \n",
            "                                                                                                  \n",
            " attrition_hidden (Dense)    (None, 30)                   3630      ['shape2[0][0]']              \n",
            "                                                                                                  \n",
            " department_output (Dense)   (None, 3)                    93        ['department_hidden[0][0]']   \n",
            "                                                                                                  \n",
            " attrition_output (Dense)    (None, 2)                    62        ['attrition_hidden[0][0]']    \n",
            "                                                                                                  \n",
            "==================================================================================================\n",
            "Total params: 14239 (55.62 KB)\n",
            "Trainable params: 14239 (55.62 KB)\n",
            "Non-trainable params: 0 (0.00 Byte)\n",
            "__________________________________________________________________________________________________\n"
          ]
        }
      ],
      "source": [
        "# # Create the model\n",
        "# nn_model = Model(inputs = input, outputs = [department_output, attrition_output])\n",
        "\n",
        "# # Compile the model\n",
        "# nn_model.compile(loss=\"binary_crossentropy\", optimizer=\"adam\", metrics=[\"accuracy\"])\n",
        "\n",
        "# # Summarize the model\n",
        "# nn_model.summary()\n",
        "\n",
        "# Create the model\n",
        "model = Model(inputs=input, outputs=[department_output, attrition_output])\n",
        "# Compile the model\n",
        "model.compile(optimizer='adam',\n",
        "              loss={\n",
        "                  'department_output': 'categorical_crossentropy',\n",
        "                  'attrition_output': 'binary_crossentropy'\n",
        "              },\n",
        "              metrics={\n",
        "                  'department_output': 'accuracy',\n",
        "                  'attrition_output': 'accuracy'\n",
        "              })\n",
        "# Summarize the model\n",
        "model.summary()"
      ]
    },
    {
      "cell_type": "code",
      "source": [
        "X_train_scaled"
      ],
      "metadata": {
        "colab": {
          "base_uri": "https://localhost:8080/"
        },
        "id": "O37OHVPa_A9d",
        "outputId": "b41c0be2-3867-4b99-a030-a13d643514c4"
      },
      "execution_count": 18,
      "outputs": [
        {
          "output_type": "execute_result",
          "data": {
            "text/plain": [
              "array([[ 0.10528682, -0.40942386,  0.87475435, ..., -0.63814846,\n",
              "        -0.67430453,  0.92004345],\n",
              "       [-0.88638904, -1.29889668, -0.50720476, ..., -0.1363124 ,\n",
              "        -0.34506944, -0.67349349],\n",
              "       [ 2.08863855, -0.07587155,  0.49785641, ..., -0.80542715,\n",
              "        -0.01583436,  0.92004345],\n",
              "       ...,\n",
              "       [-0.88638904, -0.18705565, -0.63283741, ..., -0.97270583,\n",
              "        -0.67430453, -0.67349349],\n",
              "       [ 0.10528682, -1.41008078,  1.87981553, ..., -0.80542715,\n",
              "        -0.01583436, -1.07187773],\n",
              "       [-0.88638904, -0.63179206, -0.00467417, ..., -0.63814846,\n",
              "        -0.34506944, -1.07187773]])"
            ]
          },
          "metadata": {},
          "execution_count": 18
        }
      ]
    },
    {
      "cell_type": "code",
      "source": [
        "y_test_attrition.shape\n"
      ],
      "metadata": {
        "colab": {
          "base_uri": "https://localhost:8080/"
        },
        "id": "zy1ey4sUAhOV",
        "outputId": "13bf3643-ccf0-44b2-afd0-b8e6b5fa7d57"
      },
      "execution_count": 19,
      "outputs": [
        {
          "output_type": "execute_result",
          "data": {
            "text/plain": [
              "(368, 2)"
            ]
          },
          "metadata": {},
          "execution_count": 19
        }
      ]
    },
    {
      "cell_type": "code",
      "execution_count": 20,
      "metadata": {
        "colab": {
          "base_uri": "https://localhost:8080/"
        },
        "id": "c8oGy0dpGc3U",
        "outputId": "a7c10a27-e730-4ea5-9b87-e077f5b755dc"
      },
      "outputs": [
        {
          "output_type": "stream",
          "name": "stdout",
          "text": [
            "Epoch 1/100\n",
            "35/35 [==============================] - 5s 6ms/step - loss: 1.4667 - department_output_loss: 0.9276 - attrition_output_loss: 0.5390 - department_output_accuracy: 0.6198 - attrition_output_accuracy: 0.8013\n",
            "Epoch 2/100\n",
            "35/35 [==============================] - 0s 5ms/step - loss: 1.2401 - department_output_loss: 0.7845 - attrition_output_loss: 0.4556 - department_output_accuracy: 0.6661 - attrition_output_accuracy: 0.8276\n",
            "Epoch 3/100\n",
            "35/35 [==============================] - 0s 5ms/step - loss: 1.1950 - department_output_loss: 0.7591 - attrition_output_loss: 0.4359 - department_output_accuracy: 0.6679 - attrition_output_accuracy: 0.8276\n",
            "Epoch 4/100\n",
            "35/35 [==============================] - 0s 5ms/step - loss: 1.1741 - department_output_loss: 0.7501 - attrition_output_loss: 0.4240 - department_output_accuracy: 0.6661 - attrition_output_accuracy: 0.8276\n",
            "Epoch 5/100\n",
            "35/35 [==============================] - 0s 4ms/step - loss: 1.1593 - department_output_loss: 0.7440 - attrition_output_loss: 0.4154 - department_output_accuracy: 0.6642 - attrition_output_accuracy: 0.8276\n",
            "Epoch 6/100\n",
            "35/35 [==============================] - 0s 6ms/step - loss: 1.1424 - department_output_loss: 0.7388 - attrition_output_loss: 0.4036 - department_output_accuracy: 0.6661 - attrition_output_accuracy: 0.8330\n",
            "Epoch 7/100\n",
            "35/35 [==============================] - 0s 4ms/step - loss: 1.1302 - department_output_loss: 0.7355 - attrition_output_loss: 0.3947 - department_output_accuracy: 0.6670 - attrition_output_accuracy: 0.8421\n",
            "Epoch 8/100\n",
            "35/35 [==============================] - 0s 3ms/step - loss: 1.1165 - department_output_loss: 0.7331 - attrition_output_loss: 0.3834 - department_output_accuracy: 0.6697 - attrition_output_accuracy: 0.8485\n",
            "Epoch 9/100\n",
            "35/35 [==============================] - 0s 3ms/step - loss: 1.1051 - department_output_loss: 0.7280 - attrition_output_loss: 0.3771 - department_output_accuracy: 0.6670 - attrition_output_accuracy: 0.8503\n",
            "Epoch 10/100\n",
            "35/35 [==============================] - 0s 4ms/step - loss: 1.0934 - department_output_loss: 0.7250 - attrition_output_loss: 0.3684 - department_output_accuracy: 0.6697 - attrition_output_accuracy: 0.8539\n",
            "Epoch 11/100\n",
            "35/35 [==============================] - 0s 3ms/step - loss: 1.0811 - department_output_loss: 0.7218 - attrition_output_loss: 0.3593 - department_output_accuracy: 0.6770 - attrition_output_accuracy: 0.8503\n",
            "Epoch 12/100\n",
            "35/35 [==============================] - 0s 3ms/step - loss: 1.0715 - department_output_loss: 0.7184 - attrition_output_loss: 0.3531 - department_output_accuracy: 0.6670 - attrition_output_accuracy: 0.8521\n",
            "Epoch 13/100\n",
            "35/35 [==============================] - 0s 3ms/step - loss: 1.0621 - department_output_loss: 0.7158 - attrition_output_loss: 0.3463 - department_output_accuracy: 0.6742 - attrition_output_accuracy: 0.8575\n",
            "Epoch 14/100\n",
            "35/35 [==============================] - 0s 4ms/step - loss: 1.0518 - department_output_loss: 0.7138 - attrition_output_loss: 0.3380 - department_output_accuracy: 0.6742 - attrition_output_accuracy: 0.8584\n",
            "Epoch 15/100\n",
            "35/35 [==============================] - 0s 3ms/step - loss: 1.0384 - department_output_loss: 0.7084 - attrition_output_loss: 0.3301 - department_output_accuracy: 0.6724 - attrition_output_accuracy: 0.8521\n",
            "Epoch 16/100\n",
            "35/35 [==============================] - 0s 4ms/step - loss: 1.0291 - department_output_loss: 0.7054 - attrition_output_loss: 0.3236 - department_output_accuracy: 0.6770 - attrition_output_accuracy: 0.8630\n",
            "Epoch 17/100\n",
            "35/35 [==============================] - 0s 3ms/step - loss: 1.0139 - department_output_loss: 0.7019 - attrition_output_loss: 0.3120 - department_output_accuracy: 0.6842 - attrition_output_accuracy: 0.8584\n",
            "Epoch 18/100\n",
            "35/35 [==============================] - 0s 4ms/step - loss: 1.0057 - department_output_loss: 0.7004 - attrition_output_loss: 0.3053 - department_output_accuracy: 0.6788 - attrition_output_accuracy: 0.8721\n",
            "Epoch 19/100\n",
            "35/35 [==============================] - 0s 2ms/step - loss: 0.9953 - department_output_loss: 0.6934 - attrition_output_loss: 0.3019 - department_output_accuracy: 0.6797 - attrition_output_accuracy: 0.8684\n",
            "Epoch 20/100\n",
            "35/35 [==============================] - 0s 2ms/step - loss: 0.9849 - department_output_loss: 0.6939 - attrition_output_loss: 0.2910 - department_output_accuracy: 0.6833 - attrition_output_accuracy: 0.8748\n",
            "Epoch 21/100\n",
            "35/35 [==============================] - 0s 2ms/step - loss: 0.9715 - department_output_loss: 0.6880 - attrition_output_loss: 0.2835 - department_output_accuracy: 0.6833 - attrition_output_accuracy: 0.8838\n",
            "Epoch 22/100\n",
            "35/35 [==============================] - 0s 2ms/step - loss: 0.9630 - department_output_loss: 0.6840 - attrition_output_loss: 0.2790 - department_output_accuracy: 0.6833 - attrition_output_accuracy: 0.8838\n",
            "Epoch 23/100\n",
            "35/35 [==============================] - 0s 2ms/step - loss: 0.9495 - department_output_loss: 0.6791 - attrition_output_loss: 0.2704 - department_output_accuracy: 0.6906 - attrition_output_accuracy: 0.8884\n",
            "Epoch 24/100\n",
            "35/35 [==============================] - 0s 2ms/step - loss: 0.9406 - department_output_loss: 0.6781 - attrition_output_loss: 0.2625 - department_output_accuracy: 0.6915 - attrition_output_accuracy: 0.8866\n",
            "Epoch 25/100\n",
            "35/35 [==============================] - 0s 1ms/step - loss: 0.9313 - department_output_loss: 0.6748 - attrition_output_loss: 0.2565 - department_output_accuracy: 0.6906 - attrition_output_accuracy: 0.8929\n",
            "Epoch 26/100\n",
            "35/35 [==============================] - 0s 2ms/step - loss: 0.9194 - department_output_loss: 0.6695 - attrition_output_loss: 0.2499 - department_output_accuracy: 0.7042 - attrition_output_accuracy: 0.8975\n",
            "Epoch 27/100\n",
            "35/35 [==============================] - 0s 2ms/step - loss: 0.9025 - department_output_loss: 0.6667 - attrition_output_loss: 0.2358 - department_output_accuracy: 0.6996 - attrition_output_accuracy: 0.9047\n",
            "Epoch 28/100\n",
            "35/35 [==============================] - 0s 2ms/step - loss: 0.8902 - department_output_loss: 0.6617 - attrition_output_loss: 0.2285 - department_output_accuracy: 0.7069 - attrition_output_accuracy: 0.9093\n",
            "Epoch 29/100\n",
            "35/35 [==============================] - 0s 2ms/step - loss: 0.8837 - department_output_loss: 0.6611 - attrition_output_loss: 0.2226 - department_output_accuracy: 0.7005 - attrition_output_accuracy: 0.9120\n",
            "Epoch 30/100\n",
            "35/35 [==============================] - 0s 2ms/step - loss: 0.8687 - department_output_loss: 0.6549 - attrition_output_loss: 0.2138 - department_output_accuracy: 0.7160 - attrition_output_accuracy: 0.9111\n",
            "Epoch 31/100\n",
            "35/35 [==============================] - 0s 2ms/step - loss: 0.8630 - department_output_loss: 0.6513 - attrition_output_loss: 0.2117 - department_output_accuracy: 0.7114 - attrition_output_accuracy: 0.9147\n",
            "Epoch 32/100\n",
            "35/35 [==============================] - 0s 2ms/step - loss: 0.8538 - department_output_loss: 0.6489 - attrition_output_loss: 0.2049 - department_output_accuracy: 0.7178 - attrition_output_accuracy: 0.9156\n",
            "Epoch 33/100\n",
            "35/35 [==============================] - 0s 2ms/step - loss: 0.8393 - department_output_loss: 0.6458 - attrition_output_loss: 0.1935 - department_output_accuracy: 0.7160 - attrition_output_accuracy: 0.9238\n",
            "Epoch 34/100\n",
            "35/35 [==============================] - 0s 2ms/step - loss: 0.8232 - department_output_loss: 0.6428 - attrition_output_loss: 0.1804 - department_output_accuracy: 0.7250 - attrition_output_accuracy: 0.9292\n",
            "Epoch 35/100\n",
            "35/35 [==============================] - 0s 1ms/step - loss: 0.8184 - department_output_loss: 0.6404 - attrition_output_loss: 0.1780 - department_output_accuracy: 0.7287 - attrition_output_accuracy: 0.9292\n",
            "Epoch 36/100\n",
            "35/35 [==============================] - 0s 2ms/step - loss: 0.8092 - department_output_loss: 0.6360 - attrition_output_loss: 0.1732 - department_output_accuracy: 0.7223 - attrition_output_accuracy: 0.9319\n",
            "Epoch 37/100\n",
            "35/35 [==============================] - 0s 2ms/step - loss: 0.7886 - department_output_loss: 0.6317 - attrition_output_loss: 0.1569 - department_output_accuracy: 0.7341 - attrition_output_accuracy: 0.9437\n",
            "Epoch 38/100\n",
            "35/35 [==============================] - 0s 2ms/step - loss: 0.7868 - department_output_loss: 0.6281 - attrition_output_loss: 0.1587 - department_output_accuracy: 0.7477 - attrition_output_accuracy: 0.9437\n",
            "Epoch 39/100\n",
            "35/35 [==============================] - 0s 1ms/step - loss: 0.7858 - department_output_loss: 0.6260 - attrition_output_loss: 0.1598 - department_output_accuracy: 0.7359 - attrition_output_accuracy: 0.9374\n",
            "Epoch 40/100\n",
            "35/35 [==============================] - 0s 2ms/step - loss: 0.7627 - department_output_loss: 0.6205 - attrition_output_loss: 0.1423 - department_output_accuracy: 0.7414 - attrition_output_accuracy: 0.9574\n",
            "Epoch 41/100\n",
            "35/35 [==============================] - 0s 2ms/step - loss: 0.7553 - department_output_loss: 0.6198 - attrition_output_loss: 0.1355 - department_output_accuracy: 0.7441 - attrition_output_accuracy: 0.9601\n",
            "Epoch 42/100\n",
            "35/35 [==============================] - 0s 2ms/step - loss: 0.7447 - department_output_loss: 0.6140 - attrition_output_loss: 0.1307 - department_output_accuracy: 0.7532 - attrition_output_accuracy: 0.9555\n",
            "Epoch 43/100\n",
            "35/35 [==============================] - 0s 2ms/step - loss: 0.7326 - department_output_loss: 0.6101 - attrition_output_loss: 0.1225 - department_output_accuracy: 0.7468 - attrition_output_accuracy: 0.9555\n",
            "Epoch 44/100\n",
            "35/35 [==============================] - 0s 2ms/step - loss: 0.7260 - department_output_loss: 0.6074 - attrition_output_loss: 0.1186 - department_output_accuracy: 0.7595 - attrition_output_accuracy: 0.9601\n",
            "Epoch 45/100\n",
            "35/35 [==============================] - 0s 2ms/step - loss: 0.7272 - department_output_loss: 0.6080 - attrition_output_loss: 0.1192 - department_output_accuracy: 0.7568 - attrition_output_accuracy: 0.9583\n",
            "Epoch 46/100\n",
            "35/35 [==============================] - 0s 2ms/step - loss: 0.7090 - department_output_loss: 0.6052 - attrition_output_loss: 0.1038 - department_output_accuracy: 0.7532 - attrition_output_accuracy: 0.9701\n",
            "Epoch 47/100\n",
            "35/35 [==============================] - 0s 1ms/step - loss: 0.6951 - department_output_loss: 0.5976 - attrition_output_loss: 0.0976 - department_output_accuracy: 0.7641 - attrition_output_accuracy: 0.9764\n",
            "Epoch 48/100\n",
            "35/35 [==============================] - 0s 2ms/step - loss: 0.6905 - department_output_loss: 0.5943 - attrition_output_loss: 0.0962 - department_output_accuracy: 0.7641 - attrition_output_accuracy: 0.9691\n",
            "Epoch 49/100\n",
            "35/35 [==============================] - 0s 2ms/step - loss: 0.6831 - department_output_loss: 0.5906 - attrition_output_loss: 0.0924 - department_output_accuracy: 0.7659 - attrition_output_accuracy: 0.9764\n",
            "Epoch 50/100\n",
            "35/35 [==============================] - 0s 2ms/step - loss: 0.6831 - department_output_loss: 0.5880 - attrition_output_loss: 0.0951 - department_output_accuracy: 0.7713 - attrition_output_accuracy: 0.9655\n",
            "Epoch 51/100\n",
            "35/35 [==============================] - 0s 3ms/step - loss: 0.6710 - department_output_loss: 0.5837 - attrition_output_loss: 0.0874 - department_output_accuracy: 0.7632 - attrition_output_accuracy: 0.9691\n",
            "Epoch 52/100\n",
            "35/35 [==============================] - 0s 3ms/step - loss: 0.6667 - department_output_loss: 0.5813 - attrition_output_loss: 0.0854 - department_output_accuracy: 0.7759 - attrition_output_accuracy: 0.9710\n",
            "Epoch 53/100\n",
            "35/35 [==============================] - 0s 3ms/step - loss: 0.6616 - department_output_loss: 0.5765 - attrition_output_loss: 0.0850 - department_output_accuracy: 0.7695 - attrition_output_accuracy: 0.9737\n",
            "Epoch 54/100\n",
            "35/35 [==============================] - 0s 2ms/step - loss: 0.6556 - department_output_loss: 0.5799 - attrition_output_loss: 0.0757 - department_output_accuracy: 0.7740 - attrition_output_accuracy: 0.9791\n",
            "Epoch 55/100\n",
            "35/35 [==============================] - 0s 2ms/step - loss: 0.6377 - department_output_loss: 0.5731 - attrition_output_loss: 0.0646 - department_output_accuracy: 0.7750 - attrition_output_accuracy: 0.9828\n",
            "Epoch 56/100\n",
            "35/35 [==============================] - 0s 2ms/step - loss: 0.6295 - department_output_loss: 0.5694 - attrition_output_loss: 0.0601 - department_output_accuracy: 0.7768 - attrition_output_accuracy: 0.9791\n",
            "Epoch 57/100\n",
            "35/35 [==============================] - 0s 2ms/step - loss: 0.6287 - department_output_loss: 0.5691 - attrition_output_loss: 0.0597 - department_output_accuracy: 0.7740 - attrition_output_accuracy: 0.9800\n",
            "Epoch 58/100\n",
            "35/35 [==============================] - 0s 2ms/step - loss: 0.6203 - department_output_loss: 0.5633 - attrition_output_loss: 0.0569 - department_output_accuracy: 0.7804 - attrition_output_accuracy: 0.9828\n",
            "Epoch 59/100\n",
            "35/35 [==============================] - 0s 2ms/step - loss: 0.6190 - department_output_loss: 0.5597 - attrition_output_loss: 0.0592 - department_output_accuracy: 0.7858 - attrition_output_accuracy: 0.9819\n",
            "Epoch 60/100\n",
            "35/35 [==============================] - 0s 3ms/step - loss: 0.6208 - department_output_loss: 0.5594 - attrition_output_loss: 0.0614 - department_output_accuracy: 0.7804 - attrition_output_accuracy: 0.9755\n",
            "Epoch 61/100\n",
            "35/35 [==============================] - 0s 2ms/step - loss: 0.6168 - department_output_loss: 0.5536 - attrition_output_loss: 0.0632 - department_output_accuracy: 0.7904 - attrition_output_accuracy: 0.9837\n",
            "Epoch 62/100\n",
            "35/35 [==============================] - 0s 2ms/step - loss: 0.6146 - department_output_loss: 0.5490 - attrition_output_loss: 0.0656 - department_output_accuracy: 0.7849 - attrition_output_accuracy: 0.9728\n",
            "Epoch 63/100\n",
            "35/35 [==============================] - 0s 2ms/step - loss: 0.5985 - department_output_loss: 0.5455 - attrition_output_loss: 0.0531 - department_output_accuracy: 0.7931 - attrition_output_accuracy: 0.9837\n",
            "Epoch 64/100\n",
            "35/35 [==============================] - 0s 2ms/step - loss: 0.6163 - department_output_loss: 0.5479 - attrition_output_loss: 0.0684 - department_output_accuracy: 0.7877 - attrition_output_accuracy: 0.9800\n",
            "Epoch 65/100\n",
            "35/35 [==============================] - 0s 3ms/step - loss: 0.5905 - department_output_loss: 0.5425 - attrition_output_loss: 0.0480 - department_output_accuracy: 0.7877 - attrition_output_accuracy: 0.9819\n",
            "Epoch 66/100\n",
            "35/35 [==============================] - 0s 2ms/step - loss: 0.5804 - department_output_loss: 0.5389 - attrition_output_loss: 0.0415 - department_output_accuracy: 0.7886 - attrition_output_accuracy: 0.9891\n",
            "Epoch 67/100\n",
            "35/35 [==============================] - 0s 2ms/step - loss: 0.5740 - department_output_loss: 0.5375 - attrition_output_loss: 0.0365 - department_output_accuracy: 0.7949 - attrition_output_accuracy: 0.9909\n",
            "Epoch 68/100\n",
            "35/35 [==============================] - 0s 2ms/step - loss: 0.5631 - department_output_loss: 0.5319 - attrition_output_loss: 0.0312 - department_output_accuracy: 0.7931 - attrition_output_accuracy: 0.9955\n",
            "Epoch 69/100\n",
            "35/35 [==============================] - 0s 2ms/step - loss: 0.5628 - department_output_loss: 0.5286 - attrition_output_loss: 0.0341 - department_output_accuracy: 0.7995 - attrition_output_accuracy: 0.9909\n",
            "Epoch 70/100\n",
            "35/35 [==============================] - 0s 2ms/step - loss: 0.5588 - department_output_loss: 0.5278 - attrition_output_loss: 0.0310 - department_output_accuracy: 0.7895 - attrition_output_accuracy: 0.9955\n",
            "Epoch 71/100\n",
            "35/35 [==============================] - 0s 2ms/step - loss: 0.5522 - department_output_loss: 0.5259 - attrition_output_loss: 0.0263 - department_output_accuracy: 0.8040 - attrition_output_accuracy: 0.9964\n",
            "Epoch 72/100\n",
            "35/35 [==============================] - 0s 2ms/step - loss: 0.5432 - department_output_loss: 0.5190 - attrition_output_loss: 0.0242 - department_output_accuracy: 0.8031 - attrition_output_accuracy: 0.9946\n",
            "Epoch 73/100\n",
            "35/35 [==============================] - 0s 2ms/step - loss: 0.5438 - department_output_loss: 0.5188 - attrition_output_loss: 0.0250 - department_output_accuracy: 0.8049 - attrition_output_accuracy: 0.9955\n",
            "Epoch 74/100\n",
            "35/35 [==============================] - 0s 1ms/step - loss: 0.5406 - department_output_loss: 0.5147 - attrition_output_loss: 0.0258 - department_output_accuracy: 0.8004 - attrition_output_accuracy: 0.9964\n",
            "Epoch 75/100\n",
            "35/35 [==============================] - 0s 2ms/step - loss: 0.5340 - department_output_loss: 0.5110 - attrition_output_loss: 0.0230 - department_output_accuracy: 0.8031 - attrition_output_accuracy: 0.9964\n",
            "Epoch 76/100\n",
            "35/35 [==============================] - 0s 2ms/step - loss: 0.5301 - department_output_loss: 0.5080 - attrition_output_loss: 0.0221 - department_output_accuracy: 0.8085 - attrition_output_accuracy: 0.9955\n",
            "Epoch 77/100\n",
            "35/35 [==============================] - 0s 2ms/step - loss: 0.5340 - department_output_loss: 0.5142 - attrition_output_loss: 0.0198 - department_output_accuracy: 0.8049 - attrition_output_accuracy: 0.9973\n",
            "Epoch 78/100\n",
            "35/35 [==============================] - 0s 2ms/step - loss: 0.5214 - department_output_loss: 0.5030 - attrition_output_loss: 0.0184 - department_output_accuracy: 0.8140 - attrition_output_accuracy: 0.9964\n",
            "Epoch 79/100\n",
            "35/35 [==============================] - 0s 1ms/step - loss: 0.5185 - department_output_loss: 0.4996 - attrition_output_loss: 0.0189 - department_output_accuracy: 0.8167 - attrition_output_accuracy: 0.9964\n",
            "Epoch 80/100\n",
            "35/35 [==============================] - 0s 2ms/step - loss: 0.5211 - department_output_loss: 0.4974 - attrition_output_loss: 0.0237 - department_output_accuracy: 0.8185 - attrition_output_accuracy: 0.9964\n",
            "Epoch 81/100\n",
            "35/35 [==============================] - 0s 2ms/step - loss: 0.5222 - department_output_loss: 0.4989 - attrition_output_loss: 0.0233 - department_output_accuracy: 0.8140 - attrition_output_accuracy: 0.9946\n",
            "Epoch 82/100\n",
            "35/35 [==============================] - 0s 1ms/step - loss: 0.5377 - department_output_loss: 0.4921 - attrition_output_loss: 0.0456 - department_output_accuracy: 0.8149 - attrition_output_accuracy: 0.9837\n",
            "Epoch 83/100\n",
            "35/35 [==============================] - 0s 2ms/step - loss: 0.5480 - department_output_loss: 0.4914 - attrition_output_loss: 0.0566 - department_output_accuracy: 0.8158 - attrition_output_accuracy: 0.9819\n",
            "Epoch 84/100\n",
            "35/35 [==============================] - 0s 2ms/step - loss: 0.5327 - department_output_loss: 0.4896 - attrition_output_loss: 0.0432 - department_output_accuracy: 0.8094 - attrition_output_accuracy: 0.9882\n",
            "Epoch 85/100\n",
            "35/35 [==============================] - 0s 2ms/step - loss: 0.5538 - department_output_loss: 0.4847 - attrition_output_loss: 0.0691 - department_output_accuracy: 0.8131 - attrition_output_accuracy: 0.9782\n",
            "Epoch 86/100\n",
            "35/35 [==============================] - 0s 2ms/step - loss: 0.5398 - department_output_loss: 0.4834 - attrition_output_loss: 0.0564 - department_output_accuracy: 0.8158 - attrition_output_accuracy: 0.9828\n",
            "Epoch 87/100\n",
            "35/35 [==============================] - 0s 2ms/step - loss: 0.5331 - department_output_loss: 0.4823 - attrition_output_loss: 0.0508 - department_output_accuracy: 0.8140 - attrition_output_accuracy: 0.9855\n",
            "Epoch 88/100\n",
            "35/35 [==============================] - 0s 2ms/step - loss: 0.5170 - department_output_loss: 0.4859 - attrition_output_loss: 0.0311 - department_output_accuracy: 0.8067 - attrition_output_accuracy: 0.9918\n",
            "Epoch 89/100\n",
            "35/35 [==============================] - 0s 2ms/step - loss: 0.5011 - department_output_loss: 0.4778 - attrition_output_loss: 0.0233 - department_output_accuracy: 0.8230 - attrition_output_accuracy: 0.9936\n",
            "Epoch 90/100\n",
            "35/35 [==============================] - 0s 1ms/step - loss: 0.4922 - department_output_loss: 0.4752 - attrition_output_loss: 0.0170 - department_output_accuracy: 0.8221 - attrition_output_accuracy: 0.9973\n",
            "Epoch 91/100\n",
            "35/35 [==============================] - 0s 2ms/step - loss: 0.4830 - department_output_loss: 0.4676 - attrition_output_loss: 0.0154 - department_output_accuracy: 0.8276 - attrition_output_accuracy: 0.9973\n",
            "Epoch 92/100\n",
            "35/35 [==============================] - 0s 2ms/step - loss: 0.4846 - department_output_loss: 0.4723 - attrition_output_loss: 0.0124 - department_output_accuracy: 0.8221 - attrition_output_accuracy: 0.9982\n",
            "Epoch 93/100\n",
            "35/35 [==============================] - 0s 2ms/step - loss: 0.4753 - department_output_loss: 0.4646 - attrition_output_loss: 0.0107 - department_output_accuracy: 0.8285 - attrition_output_accuracy: 0.9991\n",
            "Epoch 94/100\n",
            "35/35 [==============================] - 0s 2ms/step - loss: 0.4712 - department_output_loss: 0.4611 - attrition_output_loss: 0.0101 - department_output_accuracy: 0.8285 - attrition_output_accuracy: 0.9991\n",
            "Epoch 95/100\n",
            "35/35 [==============================] - 0s 1ms/step - loss: 0.4653 - department_output_loss: 0.4559 - attrition_output_loss: 0.0094 - department_output_accuracy: 0.8276 - attrition_output_accuracy: 0.9991\n",
            "Epoch 96/100\n",
            "35/35 [==============================] - 0s 2ms/step - loss: 0.4640 - department_output_loss: 0.4543 - attrition_output_loss: 0.0096 - department_output_accuracy: 0.8303 - attrition_output_accuracy: 0.9991\n",
            "Epoch 97/100\n",
            "35/35 [==============================] - 0s 2ms/step - loss: 0.4593 - department_output_loss: 0.4511 - attrition_output_loss: 0.0082 - department_output_accuracy: 0.8403 - attrition_output_accuracy: 1.0000\n",
            "Epoch 98/100\n",
            "35/35 [==============================] - 0s 2ms/step - loss: 0.4593 - department_output_loss: 0.4514 - attrition_output_loss: 0.0079 - department_output_accuracy: 0.8221 - attrition_output_accuracy: 1.0000\n",
            "Epoch 99/100\n",
            "35/35 [==============================] - 0s 1ms/step - loss: 0.4568 - department_output_loss: 0.4491 - attrition_output_loss: 0.0077 - department_output_accuracy: 0.8412 - attrition_output_accuracy: 1.0000\n",
            "Epoch 100/100\n",
            "35/35 [==============================] - 0s 2ms/step - loss: 0.4521 - department_output_loss: 0.4438 - attrition_output_loss: 0.0082 - department_output_accuracy: 0.8475 - attrition_output_accuracy: 0.9991\n"
          ]
        }
      ],
      "source": [
        "# Train the model\n",
        "\n",
        "#fit_model = model.fit(X_train_scaled,y_train,epochs=100)\n",
        "\n",
        "fit_model = model.fit(X_train_scaled, {'department_output': y_train_department, 'attrition_output': y_train_attrition}, epochs=100)"
      ]
    },
    {
      "cell_type": "code",
      "source": [
        "X_test_scaled"
      ],
      "metadata": {
        "colab": {
          "base_uri": "https://localhost:8080/"
        },
        "id": "7MVF-lAfC4m6",
        "outputId": "cb692fe6-f722-43d8-f17b-ba6d43bee996"
      },
      "execution_count": 24,
      "outputs": [
        {
          "output_type": "execute_result",
          "data": {
            "text/plain": [
              "array([[ 0.10528682,  0.14649666,  0.12095847, ..., -0.97270583,\n",
              "        -0.67430453,  0.12327498],\n",
              "       [-1.87806491, -0.85416027, -0.13030682, ...,  0.03096629,\n",
              "        -0.67430453,  0.12327498],\n",
              "       [-0.88638904,  0.59123307, -0.50720476, ..., -0.80542715,\n",
              "        -0.01583436,  0.52165921],\n",
              "       ...,\n",
              "       [ 1.09696269,  0.36886486,  0.12095847, ...,  0.03096629,\n",
              "        -0.34506944,  0.12327498],\n",
              "       [ 0.10528682, -0.18705565, -1.00973535, ..., -0.63814846,\n",
              "        -0.34506944,  0.52165921],\n",
              "       [ 0.10528682,  1.48070589, -0.00467417, ..., -0.97270583,\n",
              "        -0.67430453,  0.52165921]])"
            ]
          },
          "metadata": {},
          "execution_count": 24
        }
      ]
    },
    {
      "cell_type": "code",
      "execution_count": 28,
      "metadata": {
        "colab": {
          "base_uri": "https://localhost:8080/"
        },
        "id": "VsMoaQlgGc3U",
        "outputId": "03622cec-7a21-4264-fb6a-ea6a1d6dea18"
      },
      "outputs": [
        {
          "output_type": "stream",
          "name": "stdout",
          "text": [
            "12/12 [==============================] - 0s 2ms/step - loss: 2.5625 - department_output_loss: 1.0597 - attrition_output_loss: 1.5028 - department_output_accuracy: 0.5516 - attrition_output_accuracy: 0.7908\n",
            "[2.562455892562866, 1.059675931930542, 1.5027797222137451, 0.551630437374115, 0.79076087474823]\n"
          ]
        }
      ],
      "source": [
        "# Evaluate the model with the testing data\n",
        "test_result = model.evaluate(X_test_scaled,{'department_output': y_test_department, 'attrition_output': y_test_attrition})\n",
        "\n",
        "print(test_result)\n",
        "# print(f\"Loss: {model_loss}, Accuracy: {model_accuracy}\")"
      ]
    },
    {
      "cell_type": "code",
      "source": [
        "y_test_department.shape"
      ],
      "metadata": {
        "colab": {
          "base_uri": "https://localhost:8080/"
        },
        "id": "s7hTLmI9DET1",
        "outputId": "5cb92f7b-a790-4db1-e4bb-ca3b8bdf0b8e"
      },
      "execution_count": 27,
      "outputs": [
        {
          "output_type": "execute_result",
          "data": {
            "text/plain": [
              "(368, 3)"
            ]
          },
          "metadata": {},
          "execution_count": 27
        }
      ]
    },
    {
      "cell_type": "code",
      "execution_count": 29,
      "metadata": {
        "colab": {
          "base_uri": "https://localhost:8080/"
        },
        "id": "ZlCtlHi0Vt54",
        "outputId": "55ed2a62-be28-417f-8871-30eb5392a3d5"
      },
      "outputs": [
        {
          "output_type": "stream",
          "name": "stdout",
          "text": [
            "Department predictions accuracy: 0.551630437374115, Attrition predictions accuracy: 0.79076087474823\n"
          ]
        }
      ],
      "source": [
        "# Print the accuracy for both department and attrition\n",
        "print(f\"Department predictions accuracy: {test_result[3]}, Attrition predictions accuracy: {test_result[4]}\")"
      ]
    },
    {
      "cell_type": "markdown",
      "metadata": {
        "id": "eGSyfsZfWOQM"
      },
      "source": [
        "# Summary\n",
        "\n",
        "In the provided space below, briefly answer the following questions.\n",
        "\n",
        "1. Is accuracy the best metric to use on this data? Why or why not?\n",
        "\n",
        "2. What activation functions did you choose for your output layers, and why?\n",
        "\n",
        "3. Can you name a few ways that this model might be improved?"
      ]
    },
    {
      "cell_type": "markdown",
      "metadata": {
        "id": "pi9SLpFnWvbF"
      },
      "source": [
        "YOUR ANSWERS HERE\n",
        "\n",
        "1. accuracy is approprite for the department predictions, but precision could work better for attrition.\n",
        "2. We choose relu and sigmoid, we choose relu because its the simplest, and sigmoid is for binary classification.\n",
        "3. adding more data, adding more layers, increasing neurons, and epochs."
      ]
    },
    {
      "cell_type": "markdown",
      "metadata": {
        "id": "TdQ8ApYreC7L"
      },
      "source": []
    }
  ],
  "metadata": {
    "colab": {
      "provenance": [],
      "toc_visible": true
    },
    "kernelspec": {
      "display_name": "Python 3",
      "language": "python",
      "name": "python3"
    },
    "language_info": {
      "codemirror_mode": {
        "name": "ipython",
        "version": 3
      },
      "file_extension": ".py",
      "mimetype": "text/x-python",
      "name": "python",
      "nbconvert_exporter": "python",
      "pygments_lexer": "ipython3",
      "version": "3.9.18"
    },
    "vscode": {
      "interpreter": {
        "hash": "31f2aee4e71d21fbe5cf8b01ff0e069b9275f58929596ceb00d14d90e3e16cd6"
      }
    }
  },
  "nbformat": 4,
  "nbformat_minor": 0
}